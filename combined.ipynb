{
 "cells": [
  {
   "cell_type": "code",
   "execution_count": 7,
   "metadata": {},
   "outputs": [],
   "source": [
    "import cv2\n",
    "import os\n",
    "import hashlib\n"
   ]
  },
  {
   "cell_type": "code",
   "execution_count": 8,
   "metadata": {},
   "outputs": [],
   "source": [
    "# Specify the path to the input image\n",
    "original_image_path = r\"E:\\image steganography\\code\\cleanImage.jpg\"\n",
    "\n",
    "# Specify the path to the encrypted image\n",
    "encrypted_image_path = r\"E:\\image steganography\\code\\encryptedImage.jpg\""
   ]
  },
  {
   "cell_type": "code",
   "execution_count": 9,
   "metadata": {},
   "outputs": [],
   "source": [
    "def load_image(image_path):\n",
    "    img = cv2.imread(image_path)\n",
    "    if img is None:\n",
    "        raise FileNotFoundError(f\"Image not found at {image_path}\")\n",
    "    return img\n",
    "\n",
    "def hash_password(password):\n",
    "    return hashlib.sha256(password.encode()).digest()\n",
    "\n",
    "def initialize_ascii_dictionaries():\n",
    "    return {chr(i): i for i in range(256)}, {i: chr(i) for i in range(256)}\n",
    "\n",
    "def encode_message_into_image(img, msg, hashed_password):\n",
    "    height, width, channels = img.shape\n",
    "    n = m = z = 0\n",
    "    \n",
    "    for i, char in enumerate(msg):\n",
    "        img[n, m, z] = (int(img[n, m, z]) + d[char] + hashed_password[i % len(hashed_password)]) % 256\n",
    "        \n",
    "        m += 1\n",
    "        if m >= width:\n",
    "            m = 0\n",
    "            n += 1\n",
    "        \n",
    "        if n >= height:\n",
    "            raise ValueError(\"Image too small to hold the entire message.\")\n",
    "        \n",
    "        z = (z + 1) % 3\n",
    "    \n",
    "    return img\n",
    "\n",
    "def save_image(img,new_filename=\"encryptedImage.jpg\"):\n",
    "    new_image_path = os.path.join(os.path.dirname(original_image_path), new_filename)\n",
    "    print(new_image_path)\n",
    "    cv2.imwrite(new_image_path, img)\n",
    "    return new_image_path\n",
    "\n",
    "def decode_message_from_image(img, hashed_password, msg_length):\n",
    "    height, width, channels = img.shape\n",
    "    n = m = z = 0\n",
    "    decoded_chars = []\n",
    "    \n",
    "    for i in range(msg_length):\n",
    "        original_value = (int(img[n, m, z]) - hashed_password[i % len(hashed_password)]+256) % 256\n",
    "      \n",
    "        decoded_chars.append(c[original_value])\n",
    "\n",
    "        \n",
    "        m += 1\n",
    "        if m >= width:\n",
    "            m = 0\n",
    "            n += 1\n",
    "        \n",
    "        if n >= height:\n",
    "            raise ValueError(\"Image is too small or corrupted.\")\n",
    "        \n",
    "        z = (z + 1) % 3\n",
    "    \n",
    "    return ''.join(decoded_chars)\n"
   ]
  },
  {
   "cell_type": "code",
   "execution_count": 10,
   "metadata": {},
   "outputs": [
    {
     "name": "stdout",
     "output_type": "stream",
     "text": [
      "Password hashed successfully. b'\\x03\\xacgB\\x16\\xf3\\xe1\\\\v\\x1e\\xe1\\xa5\\xe2U\\xf0g\\x956#\\xc8\\xb3\\x88\\xb4E\\x9e\\x13\\xf9x\\xd7\\xc8F\\xf4'\n",
      "{'\\x00': 0, '\\x01': 1, '\\x02': 2, '\\x03': 3, '\\x04': 4, '\\x05': 5, '\\x06': 6, '\\x07': 7, '\\x08': 8, '\\t': 9, '\\n': 10, '\\x0b': 11, '\\x0c': 12, '\\r': 13, '\\x0e': 14, '\\x0f': 15, '\\x10': 16, '\\x11': 17, '\\x12': 18, '\\x13': 19, '\\x14': 20, '\\x15': 21, '\\x16': 22, '\\x17': 23, '\\x18': 24, '\\x19': 25, '\\x1a': 26, '\\x1b': 27, '\\x1c': 28, '\\x1d': 29, '\\x1e': 30, '\\x1f': 31, ' ': 32, '!': 33, '\"': 34, '#': 35, '$': 36, '%': 37, '&': 38, \"'\": 39, '(': 40, ')': 41, '*': 42, '+': 43, ',': 44, '-': 45, '.': 46, '/': 47, '0': 48, '1': 49, '2': 50, '3': 51, '4': 52, '5': 53, '6': 54, '7': 55, '8': 56, '9': 57, ':': 58, ';': 59, '<': 60, '=': 61, '>': 62, '?': 63, '@': 64, 'A': 65, 'B': 66, 'C': 67, 'D': 68, 'E': 69, 'F': 70, 'G': 71, 'H': 72, 'I': 73, 'J': 74, 'K': 75, 'L': 76, 'M': 77, 'N': 78, 'O': 79, 'P': 80, 'Q': 81, 'R': 82, 'S': 83, 'T': 84, 'U': 85, 'V': 86, 'W': 87, 'X': 88, 'Y': 89, 'Z': 90, '[': 91, '\\\\': 92, ']': 93, '^': 94, '_': 95, '`': 96, 'a': 97, 'b': 98, 'c': 99, 'd': 100, 'e': 101, 'f': 102, 'g': 103, 'h': 104, 'i': 105, 'j': 106, 'k': 107, 'l': 108, 'm': 109, 'n': 110, 'o': 111, 'p': 112, 'q': 113, 'r': 114, 's': 115, 't': 116, 'u': 117, 'v': 118, 'w': 119, 'x': 120, 'y': 121, 'z': 122, '{': 123, '|': 124, '}': 125, '~': 126, '\\x7f': 127, '\\x80': 128, '\\x81': 129, '\\x82': 130, '\\x83': 131, '\\x84': 132, '\\x85': 133, '\\x86': 134, '\\x87': 135, '\\x88': 136, '\\x89': 137, '\\x8a': 138, '\\x8b': 139, '\\x8c': 140, '\\x8d': 141, '\\x8e': 142, '\\x8f': 143, '\\x90': 144, '\\x91': 145, '\\x92': 146, '\\x93': 147, '\\x94': 148, '\\x95': 149, '\\x96': 150, '\\x97': 151, '\\x98': 152, '\\x99': 153, '\\x9a': 154, '\\x9b': 155, '\\x9c': 156, '\\x9d': 157, '\\x9e': 158, '\\x9f': 159, '\\xa0': 160, '¡': 161, '¢': 162, '£': 163, '¤': 164, '¥': 165, '¦': 166, '§': 167, '¨': 168, '©': 169, 'ª': 170, '«': 171, '¬': 172, '\\xad': 173, '®': 174, '¯': 175, '°': 176, '±': 177, '²': 178, '³': 179, '´': 180, 'µ': 181, '¶': 182, '·': 183, '¸': 184, '¹': 185, 'º': 186, '»': 187, '¼': 188, '½': 189, '¾': 190, '¿': 191, 'À': 192, 'Á': 193, 'Â': 194, 'Ã': 195, 'Ä': 196, 'Å': 197, 'Æ': 198, 'Ç': 199, 'È': 200, 'É': 201, 'Ê': 202, 'Ë': 203, 'Ì': 204, 'Í': 205, 'Î': 206, 'Ï': 207, 'Ð': 208, 'Ñ': 209, 'Ò': 210, 'Ó': 211, 'Ô': 212, 'Õ': 213, 'Ö': 214, '×': 215, 'Ø': 216, 'Ù': 217, 'Ú': 218, 'Û': 219, 'Ü': 220, 'Ý': 221, 'Þ': 222, 'ß': 223, 'à': 224, 'á': 225, 'â': 226, 'ã': 227, 'ä': 228, 'å': 229, 'æ': 230, 'ç': 231, 'è': 232, 'é': 233, 'ê': 234, 'ë': 235, 'ì': 236, 'í': 237, 'î': 238, 'ï': 239, 'ð': 240, 'ñ': 241, 'ò': 242, 'ó': 243, 'ô': 244, 'õ': 245, 'ö': 246, '÷': 247, 'ø': 248, 'ù': 249, 'ú': 250, 'û': 251, 'ü': 252, 'ý': 253, 'þ': 254, 'ÿ': 255} {0: '\\x00', 1: '\\x01', 2: '\\x02', 3: '\\x03', 4: '\\x04', 5: '\\x05', 6: '\\x06', 7: '\\x07', 8: '\\x08', 9: '\\t', 10: '\\n', 11: '\\x0b', 12: '\\x0c', 13: '\\r', 14: '\\x0e', 15: '\\x0f', 16: '\\x10', 17: '\\x11', 18: '\\x12', 19: '\\x13', 20: '\\x14', 21: '\\x15', 22: '\\x16', 23: '\\x17', 24: '\\x18', 25: '\\x19', 26: '\\x1a', 27: '\\x1b', 28: '\\x1c', 29: '\\x1d', 30: '\\x1e', 31: '\\x1f', 32: ' ', 33: '!', 34: '\"', 35: '#', 36: '$', 37: '%', 38: '&', 39: \"'\", 40: '(', 41: ')', 42: '*', 43: '+', 44: ',', 45: '-', 46: '.', 47: '/', 48: '0', 49: '1', 50: '2', 51: '3', 52: '4', 53: '5', 54: '6', 55: '7', 56: '8', 57: '9', 58: ':', 59: ';', 60: '<', 61: '=', 62: '>', 63: '?', 64: '@', 65: 'A', 66: 'B', 67: 'C', 68: 'D', 69: 'E', 70: 'F', 71: 'G', 72: 'H', 73: 'I', 74: 'J', 75: 'K', 76: 'L', 77: 'M', 78: 'N', 79: 'O', 80: 'P', 81: 'Q', 82: 'R', 83: 'S', 84: 'T', 85: 'U', 86: 'V', 87: 'W', 88: 'X', 89: 'Y', 90: 'Z', 91: '[', 92: '\\\\', 93: ']', 94: '^', 95: '_', 96: '`', 97: 'a', 98: 'b', 99: 'c', 100: 'd', 101: 'e', 102: 'f', 103: 'g', 104: 'h', 105: 'i', 106: 'j', 107: 'k', 108: 'l', 109: 'm', 110: 'n', 111: 'o', 112: 'p', 113: 'q', 114: 'r', 115: 's', 116: 't', 117: 'u', 118: 'v', 119: 'w', 120: 'x', 121: 'y', 122: 'z', 123: '{', 124: '|', 125: '}', 126: '~', 127: '\\x7f', 128: '\\x80', 129: '\\x81', 130: '\\x82', 131: '\\x83', 132: '\\x84', 133: '\\x85', 134: '\\x86', 135: '\\x87', 136: '\\x88', 137: '\\x89', 138: '\\x8a', 139: '\\x8b', 140: '\\x8c', 141: '\\x8d', 142: '\\x8e', 143: '\\x8f', 144: '\\x90', 145: '\\x91', 146: '\\x92', 147: '\\x93', 148: '\\x94', 149: '\\x95', 150: '\\x96', 151: '\\x97', 152: '\\x98', 153: '\\x99', 154: '\\x9a', 155: '\\x9b', 156: '\\x9c', 157: '\\x9d', 158: '\\x9e', 159: '\\x9f', 160: '\\xa0', 161: '¡', 162: '¢', 163: '£', 164: '¤', 165: '¥', 166: '¦', 167: '§', 168: '¨', 169: '©', 170: 'ª', 171: '«', 172: '¬', 173: '\\xad', 174: '®', 175: '¯', 176: '°', 177: '±', 178: '²', 179: '³', 180: '´', 181: 'µ', 182: '¶', 183: '·', 184: '¸', 185: '¹', 186: 'º', 187: '»', 188: '¼', 189: '½', 190: '¾', 191: '¿', 192: 'À', 193: 'Á', 194: 'Â', 195: 'Ã', 196: 'Ä', 197: 'Å', 198: 'Æ', 199: 'Ç', 200: 'È', 201: 'É', 202: 'Ê', 203: 'Ë', 204: 'Ì', 205: 'Í', 206: 'Î', 207: 'Ï', 208: 'Ð', 209: 'Ñ', 210: 'Ò', 211: 'Ó', 212: 'Ô', 213: 'Õ', 214: 'Ö', 215: '×', 216: 'Ø', 217: 'Ù', 218: 'Ú', 219: 'Û', 220: 'Ü', 221: 'Ý', 222: 'Þ', 223: 'ß', 224: 'à', 225: 'á', 226: 'â', 227: 'ã', 228: 'ä', 229: 'å', 230: 'æ', 231: 'ç', 232: 'è', 233: 'é', 234: 'ê', 235: 'ë', 236: 'ì', 237: 'í', 238: 'î', 239: 'ï', 240: 'ð', 241: 'ñ', 242: 'ò', 243: 'ó', 244: 'ô', 245: 'õ', 246: 'ö', 247: '÷', 248: 'ø', 249: 'ù', 250: 'ú', 251: 'û', 252: 'ü', 253: 'ý', 254: 'þ', 255: 'ÿ'}\n"
     ]
    }
   ],
   "source": [
    "# Prompt the user to input the secret message and password\n",
    "msg = input(\"Enter secret message: \")\n",
    "password = input(\"Enter a passcode: \")\n",
    "\n",
    "# Hash the password\n",
    "hashed_password = hash_password(password)\n",
    "print(\"Password hashed successfully.\",hashed_password)\n",
    "d, c = initialize_ascii_dictionaries()\n",
    "print(d,c)"
   ]
  },
  {
   "cell_type": "code",
   "execution_count": 11,
   "metadata": {},
   "outputs": [
    {
     "name": "stdout",
     "output_type": "stream",
     "text": [
      "Image loaded successfully.\n",
      "Message encoded successfully.\n",
      "E:\\image steganography\\code\\encryptedImage.jpg\n",
      "Message has been encoded into 'E:\\image steganography\\code\\encryptedImage.jpg'.\n"
     ]
    }
   ],
   "source": [
    "# Load the input image\n",
    "try:\n",
    "    img = load_image(original_image_path)\n",
    "    print(\"Image loaded successfully.\")\n",
    "except FileNotFoundError as e:\n",
    "    print(e)\n",
    "\n",
    "# Encode the secret message into the image\n",
    "try:\n",
    "    img = encode_message_into_image(img, msg, hashed_password)\n",
    "    print(\"Message encoded successfully.\")\n",
    "except ValueError as e:\n",
    "    print(e)\n",
    "\n",
    "# Save the modified image to a new file\n",
    "try:\n",
    "    encrypted_image_path = save_image(img)\n",
    "    print(f\"Message has been encoded into '{encrypted_image_path}'.\")\n",
    "except Exception as e:\n",
    "    print(e)\n",
    "\n",
    "# Open the newly saved encrypted image\n",
    "#os.startfile(encrypted_image_path)"
   ]
  },
  {
   "cell_type": "code",
   "execution_count": 12,
   "metadata": {},
   "outputs": [
    {
     "name": "stdout",
     "output_type": "stream",
     "text": [
      "Encrypted image loaded successfully.\n",
      "5\n",
      "Message decoded successfully.\n",
      "The secret message is: hello\n"
     ]
    }
   ],
   "source": [
    "# Load the encrypted image\n",
    "try:\n",
    "    img = load_image(encrypted_image_path)\n",
    "    print(\"Encrypted image loaded successfully.\")\n",
    "except FileNotFoundError as e:\n",
    "    print(e)\n",
    "\n",
    "# Decode the secret message from the image\n",
    "message_length = len(msg)  # Using the length of the original message\n",
    "print(message_length)\n",
    "try:\n",
    "    decoded_message = decode_message_from_image(img, hashed_password, message_length)\n",
    "    print(\"Message decoded successfully.\")\n",
    "    print(f\"The secret message is: {decoded_message}\")\n",
    "except ValueError as e:\n",
    "    print(e)"
   ]
  }
 ],
 "metadata": {
  "kernelspec": {
   "display_name": "Python 3",
   "language": "python",
   "name": "python3"
  },
  "language_info": {
   "codemirror_mode": {
    "name": "ipython",
    "version": 3
   },
   "file_extension": ".py",
   "mimetype": "text/x-python",
   "name": "python",
   "nbconvert_exporter": "python",
   "pygments_lexer": "ipython3",
   "version": "3.12.4"
  }
 },
 "nbformat": 4,
 "nbformat_minor": 2
}
